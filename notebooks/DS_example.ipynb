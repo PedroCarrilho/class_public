{
 "cells": [
  {
   "cell_type": "markdown",
   "metadata": {},
   "source": [
    "# Example notebook for extension to Dark Scattering"
   ]
  },
  {
   "cell_type": "code",
   "execution_count": 1,
   "metadata": {},
   "outputs": [],
   "source": [
    "from classy import Class\n",
    "\n",
    "%matplotlib inline\n",
    "import matplotlib\n",
    "import matplotlib.pyplot as plt\n",
    "import numpy as np\n"
   ]
  },
  {
   "cell_type": "code",
   "execution_count": 2,
   "metadata": {},
   "outputs": [],
   "source": [
    "# An LCDM case\n",
    "\n",
    "cosmo_lcdm = Class()\n",
    "cosmo_lcdm.set({'output':'tCl mPk dTk vTk','P_k_max_1/Mpc':50,\n",
    "               'h':0.7,'N_ur':2.0308,'N_ncdm':1,'m_ncdm':0.0,\n",
    "               'omega_b':0.022,'omega_cdm':0.104976,'gauge':'Newtonian'})\n",
    "\n",
    "cosmo_lcdm.compute()"
   ]
  },
  {
   "cell_type": "code",
   "execution_count": 3,
   "metadata": {},
   "outputs": [],
   "source": [
    "# Now various cases with constant w to test ppf\n",
    "\n",
    "models = ['PPF1','PPF2','FLD1','FLD2']\n",
    "w0 = {'PPF1':-0.9,'PPF2':-1.1,'FLD1':-0.9,'FLD2':-1.1}\n",
    "useppf = {'PPF1':'yes','PPF2':'yes','FLD1':'no','FLD2':'no'}\n",
    "\n",
    "cosmo = {}\n",
    "\n",
    "for M in models:\n",
    "    cosmo[M] = Class()\n",
    "    cosmo[M].set({'output':'tCl mPk dTk vTk','P_k_max_1/Mpc':50,\n",
    "               'h':0.7,\n",
    "               'omega_b':0.022,'omega_cdm':0.104976,\n",
    "               'N_ur':2.0308,'N_ncdm':1,'m_ncdm':0.0,\n",
    "               'cs2_fld':1.,\n",
    "               'w0_fld':w0[M],'wa_fld':0.0,'xi_ds':0.0,'Omega_Lambda':0.,'gauge':'Newtonian',\n",
    "               'use_ppf':useppf[M],'dark_scattering':'yes'})\n",
    "\n",
    "    cosmo[M].compute()"
   ]
  },
  {
   "cell_type": "code",
   "execution_count": 11,
   "metadata": {},
   "outputs": [],
   "source": [
    "# Now, the dark scattering case for the same w as above\n",
    "\n",
    "cosmo_ds = {}\n",
    "\n",
    "xi_ds=50.\n",
    "\n",
    "for M in models:\n",
    "    cosmo_ds[M] = Class()\n",
    "    cosmo_ds[M].set({'output':'tCl mPk dTk vTk','P_k_max_1/Mpc':50,\n",
    "               'h':0.7,\n",
    "               'omega_b':0.022,'omega_cdm':0.104976,\n",
    "               'cs2_fld':1.,\n",
    "               'w0_fld':w0[M],'wa_fld':0.0,'xi_ds':xi_ds,'Omega_Lambda':0.,'gauge':'Newtonian',\n",
    "               'use_ppf':useppf[M],'dark_scattering':'yes'})    \n",
    "\n",
    "    cosmo_ds[M].compute()"
   ]
  },
  {
   "cell_type": "code",
   "execution_count": 12,
   "metadata": {},
   "outputs": [
    {
     "data": {
      "text/plain": [
       "<matplotlib.legend.Legend at 0x7fdf0717acd0>"
      ]
     },
     "execution_count": 12,
     "metadata": {},
     "output_type": "execute_result"
    },
    {
     "data": {
      "image/png": "[encoded data removed]",
      "text/plain": [
       "<Figure size 432x288 with 1 Axes>"
      ]
     },
     "metadata": {
      "needs_background": "light"
     },
     "output_type": "display_data"
    }
   ],
   "source": [
    "# Comparison of matter power spectra also between ppf and non-ppf\n",
    "\n",
    "k_arr=np.geomspace(1e-4,50,100)\n",
    "h=0.7\n",
    "\n",
    "Pk_fld = np.array([cosmo['FLD1'].pk(k, 0.0)*h*h*h for k in k_arr])\n",
    "Pk_ppf = np.array([cosmo['PPF1'].pk(k, 0.0)*h*h*h for k in k_arr])\n",
    "\n",
    "Pk_fld_ds = np.array([cosmo_ds['FLD1'].pk(k, 0.0)*h*h*h for k in k_arr])\n",
    "Pk_ppf_ds = np.array([cosmo_ds['PPF1'].pk(k, 0.0)*h*h*h for k in k_arr])\n",
    "\n",
    "Pk_lcdm = np.array([cosmo_lcdm.pk(k, 0.0)*h*h*h for k in k_arr])\n",
    "\n",
    "plt.semilogx(k_arr,Pk_fld/Pk_lcdm,label='wCDM fld')\n",
    "plt.semilogx(k_arr,Pk_ppf/Pk_lcdm,label='wCDM ppf')\n",
    "\n",
    "plt.semilogx(k_arr,Pk_fld_ds/Pk_lcdm,label='wCDM+DS fld')\n",
    "plt.semilogx(k_arr,Pk_ppf_ds/Pk_lcdm,label='wCDM+DS ppf')\n",
    "plt.xlim([1e-4,50])\n",
    "#plt.ylim([6e-11,1e-9])\n",
    "plt.xlabel(r'$k$')\n",
    "plt.ylabel(r'$P/P_{lcdm}$')\n",
    "plt.legend()"
   ]
  }
 ],
 "metadata": {
  "kernelspec": {
   "display_name": "Python 3 (ipykernel)",
   "language": "python",
   "name": "python3"
  },
  "language_info": {
   "codemirror_mode": {
    "name": "ipython",
    "version": 3
   },
   "file_extension": ".py",
   "mimetype": "text/x-python",
   "name": "python",
   "nbconvert_exporter": "python",
   "pygments_lexer": "ipython3",
   "version": "3.8.12"
  }
 },
 "nbformat": 4,
 "nbformat_minor": 1
}
